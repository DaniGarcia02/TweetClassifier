{
 "cells": [
  {
   "cell_type": "markdown",
   "id": "b453cb78-08de-4602-aeed-67c7701b19b9",
   "metadata": {},
   "source": [
    "# Credit Card Fraud Detection"
   ]
  },
  {
   "cell_type": "code",
   "execution_count": 3,
   "id": "be6505b1-e588-4e45-b087-1b7982a3d92c",
   "metadata": {},
   "outputs": [
    {
     "name": "stdout",
     "output_type": "stream",
     "text": [
      "Path to dataset files: C:\\Users\\danig\\.cache\\kagglehub\\datasets\\mlg-ulb\\creditcardfraud\\versions\\3\n"
     ]
    }
   ],
   "source": [
    "import kagglehub\n",
    "\n",
    "# Download latest version\n",
    "path = kagglehub.dataset_download(\"mlg-ulb/creditcardfraud\")\n",
    "\n",
    "print(\"Path to dataset files:\", path)"
   ]
  },
  {
   "cell_type": "code",
   "execution_count": 4,
   "id": "1f403c56-b11f-4ac2-8a2a-d769b6268483",
   "metadata": {},
   "outputs": [],
   "source": [
    "import pandas as pd\n",
    "import numpy as np\n",
    "import seaborn as sns\n",
    "import matplotlib.pyplot as plt\n",
    "import time\n",
    "\n",
    "from sklearn.model_selection import train_test_split, cross_validate, cross_val_score, GridSearchCV\n",
    "from sklearn.preprocessing import RobustScaler, MinMaxScaler\n",
    "from sklearn.metrics import precision_recall_curve, roc_curve, auc, f1_score, average_precision_score, classification_report, confusion_matrix\n",
    "\n",
    "# Models\n",
    "from sklearn.linear_model import LogisticRegression\n",
    "from sklearn.neighbors import KNeighborsClassifier\n",
    "from sklearn.svm import SVC, LinearSVC\n",
    "from sklearn.tree import DecisionTreeClassifier\n",
    "from sklearn.ensemble import RandomForestClassifier\n",
    "from xgboost import XGBClassifier"
   ]
  },
  {
   "cell_type": "markdown",
   "id": "6adfc1f6-105a-4005-b75d-a7d242da48e7",
   "metadata": {},
   "source": [
    "## <ins>Exploratory Data Analysis</ins>"
   ]
  },
  {
   "cell_type": "code",
   "execution_count": 5,
   "id": "e349dd56-878c-4a16-9076-fb0d2a817150",
   "metadata": {},
   "outputs": [
    {
     "data": {
      "text/html": [
       "<div>\n",
       "<style scoped>\n",
       "    .dataframe tbody tr th:only-of-type {\n",
       "        vertical-align: middle;\n",
       "    }\n",
       "\n",
       "    .dataframe tbody tr th {\n",
       "        vertical-align: top;\n",
       "    }\n",
       "\n",
       "    .dataframe thead th {\n",
       "        text-align: right;\n",
       "    }\n",
       "</style>\n",
       "<table border=\"1\" class=\"dataframe\">\n",
       "  <thead>\n",
       "    <tr style=\"text-align: right;\">\n",
       "      <th></th>\n",
       "      <th>Time</th>\n",
       "      <th>V1</th>\n",
       "      <th>V2</th>\n",
       "      <th>V3</th>\n",
       "      <th>V4</th>\n",
       "      <th>V5</th>\n",
       "      <th>V6</th>\n",
       "      <th>V7</th>\n",
       "      <th>V8</th>\n",
       "      <th>V9</th>\n",
       "      <th>...</th>\n",
       "      <th>V21</th>\n",
       "      <th>V22</th>\n",
       "      <th>V23</th>\n",
       "      <th>V24</th>\n",
       "      <th>V25</th>\n",
       "      <th>V26</th>\n",
       "      <th>V27</th>\n",
       "      <th>V28</th>\n",
       "      <th>Amount</th>\n",
       "      <th>Class</th>\n",
       "    </tr>\n",
       "  </thead>\n",
       "  <tbody>\n",
       "    <tr>\n",
       "      <th>0</th>\n",
       "      <td>0.0</td>\n",
       "      <td>-1.359807</td>\n",
       "      <td>-0.072781</td>\n",
       "      <td>2.536347</td>\n",
       "      <td>1.378155</td>\n",
       "      <td>-0.338321</td>\n",
       "      <td>0.462388</td>\n",
       "      <td>0.239599</td>\n",
       "      <td>0.098698</td>\n",
       "      <td>0.363787</td>\n",
       "      <td>...</td>\n",
       "      <td>-0.018307</td>\n",
       "      <td>0.277838</td>\n",
       "      <td>-0.110474</td>\n",
       "      <td>0.066928</td>\n",
       "      <td>0.128539</td>\n",
       "      <td>-0.189115</td>\n",
       "      <td>0.133558</td>\n",
       "      <td>-0.021053</td>\n",
       "      <td>149.62</td>\n",
       "      <td>0</td>\n",
       "    </tr>\n",
       "    <tr>\n",
       "      <th>1</th>\n",
       "      <td>0.0</td>\n",
       "      <td>1.191857</td>\n",
       "      <td>0.266151</td>\n",
       "      <td>0.166480</td>\n",
       "      <td>0.448154</td>\n",
       "      <td>0.060018</td>\n",
       "      <td>-0.082361</td>\n",
       "      <td>-0.078803</td>\n",
       "      <td>0.085102</td>\n",
       "      <td>-0.255425</td>\n",
       "      <td>...</td>\n",
       "      <td>-0.225775</td>\n",
       "      <td>-0.638672</td>\n",
       "      <td>0.101288</td>\n",
       "      <td>-0.339846</td>\n",
       "      <td>0.167170</td>\n",
       "      <td>0.125895</td>\n",
       "      <td>-0.008983</td>\n",
       "      <td>0.014724</td>\n",
       "      <td>2.69</td>\n",
       "      <td>0</td>\n",
       "    </tr>\n",
       "    <tr>\n",
       "      <th>2</th>\n",
       "      <td>1.0</td>\n",
       "      <td>-1.358354</td>\n",
       "      <td>-1.340163</td>\n",
       "      <td>1.773209</td>\n",
       "      <td>0.379780</td>\n",
       "      <td>-0.503198</td>\n",
       "      <td>1.800499</td>\n",
       "      <td>0.791461</td>\n",
       "      <td>0.247676</td>\n",
       "      <td>-1.514654</td>\n",
       "      <td>...</td>\n",
       "      <td>0.247998</td>\n",
       "      <td>0.771679</td>\n",
       "      <td>0.909412</td>\n",
       "      <td>-0.689281</td>\n",
       "      <td>-0.327642</td>\n",
       "      <td>-0.139097</td>\n",
       "      <td>-0.055353</td>\n",
       "      <td>-0.059752</td>\n",
       "      <td>378.66</td>\n",
       "      <td>0</td>\n",
       "    </tr>\n",
       "    <tr>\n",
       "      <th>3</th>\n",
       "      <td>1.0</td>\n",
       "      <td>-0.966272</td>\n",
       "      <td>-0.185226</td>\n",
       "      <td>1.792993</td>\n",
       "      <td>-0.863291</td>\n",
       "      <td>-0.010309</td>\n",
       "      <td>1.247203</td>\n",
       "      <td>0.237609</td>\n",
       "      <td>0.377436</td>\n",
       "      <td>-1.387024</td>\n",
       "      <td>...</td>\n",
       "      <td>-0.108300</td>\n",
       "      <td>0.005274</td>\n",
       "      <td>-0.190321</td>\n",
       "      <td>-1.175575</td>\n",
       "      <td>0.647376</td>\n",
       "      <td>-0.221929</td>\n",
       "      <td>0.062723</td>\n",
       "      <td>0.061458</td>\n",
       "      <td>123.50</td>\n",
       "      <td>0</td>\n",
       "    </tr>\n",
       "    <tr>\n",
       "      <th>4</th>\n",
       "      <td>2.0</td>\n",
       "      <td>-1.158233</td>\n",
       "      <td>0.877737</td>\n",
       "      <td>1.548718</td>\n",
       "      <td>0.403034</td>\n",
       "      <td>-0.407193</td>\n",
       "      <td>0.095921</td>\n",
       "      <td>0.592941</td>\n",
       "      <td>-0.270533</td>\n",
       "      <td>0.817739</td>\n",
       "      <td>...</td>\n",
       "      <td>-0.009431</td>\n",
       "      <td>0.798278</td>\n",
       "      <td>-0.137458</td>\n",
       "      <td>0.141267</td>\n",
       "      <td>-0.206010</td>\n",
       "      <td>0.502292</td>\n",
       "      <td>0.219422</td>\n",
       "      <td>0.215153</td>\n",
       "      <td>69.99</td>\n",
       "      <td>0</td>\n",
       "    </tr>\n",
       "    <tr>\n",
       "      <th>...</th>\n",
       "      <td>...</td>\n",
       "      <td>...</td>\n",
       "      <td>...</td>\n",
       "      <td>...</td>\n",
       "      <td>...</td>\n",
       "      <td>...</td>\n",
       "      <td>...</td>\n",
       "      <td>...</td>\n",
       "      <td>...</td>\n",
       "      <td>...</td>\n",
       "      <td>...</td>\n",
       "      <td>...</td>\n",
       "      <td>...</td>\n",
       "      <td>...</td>\n",
       "      <td>...</td>\n",
       "      <td>...</td>\n",
       "      <td>...</td>\n",
       "      <td>...</td>\n",
       "      <td>...</td>\n",
       "      <td>...</td>\n",
       "      <td>...</td>\n",
       "    </tr>\n",
       "    <tr>\n",
       "      <th>284802</th>\n",
       "      <td>172786.0</td>\n",
       "      <td>-11.881118</td>\n",
       "      <td>10.071785</td>\n",
       "      <td>-9.834783</td>\n",
       "      <td>-2.066656</td>\n",
       "      <td>-5.364473</td>\n",
       "      <td>-2.606837</td>\n",
       "      <td>-4.918215</td>\n",
       "      <td>7.305334</td>\n",
       "      <td>1.914428</td>\n",
       "      <td>...</td>\n",
       "      <td>0.213454</td>\n",
       "      <td>0.111864</td>\n",
       "      <td>1.014480</td>\n",
       "      <td>-0.509348</td>\n",
       "      <td>1.436807</td>\n",
       "      <td>0.250034</td>\n",
       "      <td>0.943651</td>\n",
       "      <td>0.823731</td>\n",
       "      <td>0.77</td>\n",
       "      <td>0</td>\n",
       "    </tr>\n",
       "    <tr>\n",
       "      <th>284803</th>\n",
       "      <td>172787.0</td>\n",
       "      <td>-0.732789</td>\n",
       "      <td>-0.055080</td>\n",
       "      <td>2.035030</td>\n",
       "      <td>-0.738589</td>\n",
       "      <td>0.868229</td>\n",
       "      <td>1.058415</td>\n",
       "      <td>0.024330</td>\n",
       "      <td>0.294869</td>\n",
       "      <td>0.584800</td>\n",
       "      <td>...</td>\n",
       "      <td>0.214205</td>\n",
       "      <td>0.924384</td>\n",
       "      <td>0.012463</td>\n",
       "      <td>-1.016226</td>\n",
       "      <td>-0.606624</td>\n",
       "      <td>-0.395255</td>\n",
       "      <td>0.068472</td>\n",
       "      <td>-0.053527</td>\n",
       "      <td>24.79</td>\n",
       "      <td>0</td>\n",
       "    </tr>\n",
       "    <tr>\n",
       "      <th>284804</th>\n",
       "      <td>172788.0</td>\n",
       "      <td>1.919565</td>\n",
       "      <td>-0.301254</td>\n",
       "      <td>-3.249640</td>\n",
       "      <td>-0.557828</td>\n",
       "      <td>2.630515</td>\n",
       "      <td>3.031260</td>\n",
       "      <td>-0.296827</td>\n",
       "      <td>0.708417</td>\n",
       "      <td>0.432454</td>\n",
       "      <td>...</td>\n",
       "      <td>0.232045</td>\n",
       "      <td>0.578229</td>\n",
       "      <td>-0.037501</td>\n",
       "      <td>0.640134</td>\n",
       "      <td>0.265745</td>\n",
       "      <td>-0.087371</td>\n",
       "      <td>0.004455</td>\n",
       "      <td>-0.026561</td>\n",
       "      <td>67.88</td>\n",
       "      <td>0</td>\n",
       "    </tr>\n",
       "    <tr>\n",
       "      <th>284805</th>\n",
       "      <td>172788.0</td>\n",
       "      <td>-0.240440</td>\n",
       "      <td>0.530483</td>\n",
       "      <td>0.702510</td>\n",
       "      <td>0.689799</td>\n",
       "      <td>-0.377961</td>\n",
       "      <td>0.623708</td>\n",
       "      <td>-0.686180</td>\n",
       "      <td>0.679145</td>\n",
       "      <td>0.392087</td>\n",
       "      <td>...</td>\n",
       "      <td>0.265245</td>\n",
       "      <td>0.800049</td>\n",
       "      <td>-0.163298</td>\n",
       "      <td>0.123205</td>\n",
       "      <td>-0.569159</td>\n",
       "      <td>0.546668</td>\n",
       "      <td>0.108821</td>\n",
       "      <td>0.104533</td>\n",
       "      <td>10.00</td>\n",
       "      <td>0</td>\n",
       "    </tr>\n",
       "    <tr>\n",
       "      <th>284806</th>\n",
       "      <td>172792.0</td>\n",
       "      <td>-0.533413</td>\n",
       "      <td>-0.189733</td>\n",
       "      <td>0.703337</td>\n",
       "      <td>-0.506271</td>\n",
       "      <td>-0.012546</td>\n",
       "      <td>-0.649617</td>\n",
       "      <td>1.577006</td>\n",
       "      <td>-0.414650</td>\n",
       "      <td>0.486180</td>\n",
       "      <td>...</td>\n",
       "      <td>0.261057</td>\n",
       "      <td>0.643078</td>\n",
       "      <td>0.376777</td>\n",
       "      <td>0.008797</td>\n",
       "      <td>-0.473649</td>\n",
       "      <td>-0.818267</td>\n",
       "      <td>-0.002415</td>\n",
       "      <td>0.013649</td>\n",
       "      <td>217.00</td>\n",
       "      <td>0</td>\n",
       "    </tr>\n",
       "  </tbody>\n",
       "</table>\n",
       "<p>284807 rows × 31 columns</p>\n",
       "</div>"
      ],
      "text/plain": [
       "            Time         V1         V2        V3        V4        V5  \\\n",
       "0            0.0  -1.359807  -0.072781  2.536347  1.378155 -0.338321   \n",
       "1            0.0   1.191857   0.266151  0.166480  0.448154  0.060018   \n",
       "2            1.0  -1.358354  -1.340163  1.773209  0.379780 -0.503198   \n",
       "3            1.0  -0.966272  -0.185226  1.792993 -0.863291 -0.010309   \n",
       "4            2.0  -1.158233   0.877737  1.548718  0.403034 -0.407193   \n",
       "...          ...        ...        ...       ...       ...       ...   \n",
       "284802  172786.0 -11.881118  10.071785 -9.834783 -2.066656 -5.364473   \n",
       "284803  172787.0  -0.732789  -0.055080  2.035030 -0.738589  0.868229   \n",
       "284804  172788.0   1.919565  -0.301254 -3.249640 -0.557828  2.630515   \n",
       "284805  172788.0  -0.240440   0.530483  0.702510  0.689799 -0.377961   \n",
       "284806  172792.0  -0.533413  -0.189733  0.703337 -0.506271 -0.012546   \n",
       "\n",
       "              V6        V7        V8        V9  ...       V21       V22  \\\n",
       "0       0.462388  0.239599  0.098698  0.363787  ... -0.018307  0.277838   \n",
       "1      -0.082361 -0.078803  0.085102 -0.255425  ... -0.225775 -0.638672   \n",
       "2       1.800499  0.791461  0.247676 -1.514654  ...  0.247998  0.771679   \n",
       "3       1.247203  0.237609  0.377436 -1.387024  ... -0.108300  0.005274   \n",
       "4       0.095921  0.592941 -0.270533  0.817739  ... -0.009431  0.798278   \n",
       "...          ...       ...       ...       ...  ...       ...       ...   \n",
       "284802 -2.606837 -4.918215  7.305334  1.914428  ...  0.213454  0.111864   \n",
       "284803  1.058415  0.024330  0.294869  0.584800  ...  0.214205  0.924384   \n",
       "284804  3.031260 -0.296827  0.708417  0.432454  ...  0.232045  0.578229   \n",
       "284805  0.623708 -0.686180  0.679145  0.392087  ...  0.265245  0.800049   \n",
       "284806 -0.649617  1.577006 -0.414650  0.486180  ...  0.261057  0.643078   \n",
       "\n",
       "             V23       V24       V25       V26       V27       V28  Amount  \\\n",
       "0      -0.110474  0.066928  0.128539 -0.189115  0.133558 -0.021053  149.62   \n",
       "1       0.101288 -0.339846  0.167170  0.125895 -0.008983  0.014724    2.69   \n",
       "2       0.909412 -0.689281 -0.327642 -0.139097 -0.055353 -0.059752  378.66   \n",
       "3      -0.190321 -1.175575  0.647376 -0.221929  0.062723  0.061458  123.50   \n",
       "4      -0.137458  0.141267 -0.206010  0.502292  0.219422  0.215153   69.99   \n",
       "...          ...       ...       ...       ...       ...       ...     ...   \n",
       "284802  1.014480 -0.509348  1.436807  0.250034  0.943651  0.823731    0.77   \n",
       "284803  0.012463 -1.016226 -0.606624 -0.395255  0.068472 -0.053527   24.79   \n",
       "284804 -0.037501  0.640134  0.265745 -0.087371  0.004455 -0.026561   67.88   \n",
       "284805 -0.163298  0.123205 -0.569159  0.546668  0.108821  0.104533   10.00   \n",
       "284806  0.376777  0.008797 -0.473649 -0.818267 -0.002415  0.013649  217.00   \n",
       "\n",
       "        Class  \n",
       "0           0  \n",
       "1           0  \n",
       "2           0  \n",
       "3           0  \n",
       "4           0  \n",
       "...       ...  \n",
       "284802      0  \n",
       "284803      0  \n",
       "284804      0  \n",
       "284805      0  \n",
       "284806      0  \n",
       "\n",
       "[284807 rows x 31 columns]"
      ]
     },
     "execution_count": 5,
     "metadata": {},
     "output_type": "execute_result"
    }
   ],
   "source": [
    "df = pd.read_csv(path+'/creditcard.csv')\n",
    "df"
   ]
  },
  {
   "cell_type": "code",
   "execution_count": 6,
   "id": "92beaf53-cc17-406f-b1fc-49d89e447ec7",
   "metadata": {},
   "outputs": [],
   "source": [
    "y = df['Class'] \n",
    "X = df.drop(['Class', 'Time'], axis=1)\n",
    "\n",
    "X_train, X_test, y_train, y_test = train_test_split(X, y, random_state=1, train_size=0.8, shuffle=True, stratify=df['Class'])"
   ]
  },
  {
   "cell_type": "markdown",
   "id": "c3727a86-7c3f-4481-8345-55947f3f3ac3",
   "metadata": {},
   "source": [
    "### Class Imbalance"
   ]
  },
  {
   "cell_type": "code",
   "execution_count": 5,
   "id": "7aad4a02-1163-490d-ab7a-ad4efa6232bd",
   "metadata": {},
   "outputs": [
    {
     "name": "stdout",
     "output_type": "stream",
     "text": [
      "Not Fraud: 284315 -> 99.83 %\n",
      "Fraud: 492 -> 0.17 %\n"
     ]
    }
   ],
   "source": [
    "fraud = 0\n",
    "not_fraud = 0\n",
    "for i in y:\n",
    "  if i == 1:\n",
    "    fraud = fraud+1\n",
    "  else:\n",
    "    not_fraud = not_fraud+1\n",
    "\n",
    "print(\"Not Fraud:\", not_fraud, \"->\", round(not_fraud/len(y)*100, 2), \"%\")\n",
    "print(\"Fraud:\", fraud, \"->\", round((fraud)/len(y)*100, 2), \"%\")"
   ]
  },
  {
   "cell_type": "markdown",
   "id": "20c4b441-164f-44a3-8a84-6cf14e4b0edc",
   "metadata": {},
   "source": [
    "Com es pot observar el dataset està molt imbalancejat, per tant, no ho avaluarem amb 'accuracy' ... \n",
    "*TODO: Explicar la metrica a utilizar*"
   ]
  },
  {
   "cell_type": "markdown",
   "id": "7db5369a-56ad-4649-9472-b89f2d7d52b3",
   "metadata": {},
   "source": [
    "### Valors NaN"
   ]
  },
  {
   "cell_type": "code",
   "execution_count": 6,
   "id": "dbf4696f-0a99-48fe-bb8a-270e6e82f88d",
   "metadata": {},
   "outputs": [
    {
     "data": {
      "text/plain": [
       "np.False_"
      ]
     },
     "execution_count": 6,
     "metadata": {},
     "output_type": "execute_result"
    }
   ],
   "source": [
    "df.isnull().values.any()"
   ]
  },
  {
   "cell_type": "markdown",
   "id": "5b06b33d-c6cd-4cbf-be3f-92db3ba463aa",
   "metadata": {},
   "source": [
    "Aquest dataset no te Nans, per tant, no requereix un tractament d'aquests."
   ]
  },
  {
   "cell_type": "markdown",
   "id": "581fcb62-e8f1-44e9-9f9e-c18a5b89dcca",
   "metadata": {},
   "source": [
    "### Correlació"
   ]
  },
  {
   "cell_type": "code",
   "execution_count": 7,
   "id": "2fe5f08d-5033-4319-a3b2-b6b988f052d5",
   "metadata": {},
   "outputs": [
    {
     "data": {
      "text/plain": [
       "<Axes: >"
      ]
     },
     "execution_count": 7,
     "metadata": {},
     "output_type": "execute_result"
    },
    {
     "data": {
      "image/png": "[encoded data removed]",
      "text/plain": [
       "<Figure size 1100x900 with 2 Axes>"
      ]
     },
     "metadata": {},
     "output_type": "display_data"
    }
   ],
   "source": [
    "f, ax = plt.subplots(figsize=(11, 9))\n",
    "\n",
    "sns.heatmap(df.corr(), center=0, cmap='coolwarm', linewidths=.5, vmax=0.5, vmin=-0.5)"
   ]
  },
  {
   "cell_type": "code",
   "execution_count": 8,
   "id": "0d0b2bfb-ecd8-4990-83cd-0546d4365ce3",
   "metadata": {},
   "outputs": [
    {
     "data": {
      "image/png": "[encoded data removed]",
      "text/plain": [
       "<Figure size 800x600 with 1 Axes>"
      ]
     },
     "metadata": {},
     "output_type": "display_data"
    }
   ],
   "source": [
    "plt.figure(figsize=(8, 6))\n",
    "sns.boxplot(data=df, x='Class', y='Amount')\n",
    "plt.title('Transaction Amount by Class (Fraud vs Non-Fraud)')\n",
    "plt.xlabel('Class')\n",
    "plt.ylabel('Transaction Amount')\n",
    "plt.show()"
   ]
  },
  {
   "cell_type": "markdown",
   "id": "912b124b-18a9-430b-b92d-f41d8f777a1b",
   "metadata": {},
   "source": [
    "## <ins>Preprocessing</ins>"
   ]
  },
  {
   "cell_type": "code",
   "execution_count": 9,
   "id": "e3fec772-d486-4666-99db-12c8dbd865d0",
   "metadata": {},
   "outputs": [
    {
     "data": {
      "text/plain": [
       "0         1.783274\n",
       "1        -0.269825\n",
       "2         4.983721\n",
       "3         1.418291\n",
       "4         0.670579\n",
       "            ...   \n",
       "284802   -0.296653\n",
       "284803    0.038986\n",
       "284804    0.641096\n",
       "284805   -0.167680\n",
       "284806    2.724796\n",
       "Name: Amount, Length: 284807, dtype: float64"
      ]
     },
     "execution_count": 9,
     "metadata": {},
     "output_type": "execute_result"
    }
   ],
   "source": [
    "df['Amount'] = RobustScaler().fit_transform(df['Amount'].to_numpy().reshape(-1,1))\n",
    "df['Amount']"
   ]
  },
  {
   "cell_type": "code",
   "execution_count": 10,
   "id": "c4b53925-3976-4827-8469-2df6296d602d",
   "metadata": {},
   "outputs": [
    {
     "data": {
      "image/png": "[encoded data removed]",
      "text/plain": [
       "<Figure size 640x480 with 1 Axes>"
      ]
     },
     "metadata": {},
     "output_type": "display_data"
    }
   ],
   "source": [
    "plt.hist(df['Amount'], bins=30, color='skyblue', edgecolor='black')\n",
    "plt.xlabel('Values')\n",
    "plt.ylabel('Frequency')\n",
    "plt.title('Amount')\n",
    "\n",
    "plt.show()"
   ]
  },
  {
   "cell_type": "code",
   "execution_count": null,
   "id": "24ccd8b7-c74c-4b51-8fdd-83a91573729a",
   "metadata": {},
   "outputs": [],
   "source": []
  },
  {
   "cell_type": "markdown",
   "id": "502eca20-7091-4131-ba79-878a12479208",
   "metadata": {},
   "source": [
    "### Metrics"
   ]
  },
  {
   "cell_type": "code",
   "execution_count": 16,
   "id": "bbdce523-7f26-4a7d-9f99-0bfe74ce7ee4",
   "metadata": {},
   "outputs": [],
   "source": [
    "def get_classification_report(y, pred):\n",
    "    return classification_report(y, pred)\n",
    "\n",
    "def get_f1_score(y, pred):\n",
    "    return f1_score(y, pred)"
   ]
  },
  {
   "cell_type": "markdown",
   "id": "8aae4f1c-047c-4ce3-9efc-3718ab8299c0",
   "metadata": {},
   "source": [
    "### Logistic Regression"
   ]
  },
  {
   "cell_type": "code",
   "execution_count": 26,
   "id": "93a78380-0b62-4431-a038-3cbde1796d6e",
   "metadata": {},
   "outputs": [
    {
     "name": "stdout",
     "output_type": "stream",
     "text": [
      "Time: 8.999192237854004\n",
      "F1-Score: 0.7727272727272727\n",
      "              precision    recall  f1-score   support\n",
      "\n",
      "           0       1.00      1.00      1.00     56864\n",
      "           1       0.87      0.69      0.77        98\n",
      "\n",
      "    accuracy                           1.00     56962\n",
      "   macro avg       0.94      0.85      0.89     56962\n",
      "weighted avg       1.00      1.00      1.00     56962\n",
      "\n"
     ]
    }
   ],
   "source": [
    "start = time.time()\n",
    "log_reg = LogisticRegression(max_iter= 50000, random_state = 1).fit(X_train, y_train)\n",
    "end = time.time()\n",
    "print(\"Time:\", end - start)\n",
    "\n",
    "log_reg_pred = log_reg.predict(X_test)\n",
    "print(\"F1-Score:\", get_f1_score(y_test, log_reg_pred))\n",
    "print(get_classification_report(y_test, log_reg_pred))"
   ]
  },
  {
   "cell_type": "markdown",
   "id": "d4f36dcd-7d47-4462-b849-381a2f45b722",
   "metadata": {},
   "source": [
    "### KNN"
   ]
  },
  {
   "cell_type": "markdown",
   "id": "bd560cb7-79fe-4069-8241-06d584ee4148",
   "metadata": {},
   "source": [
    "KNN requereix normalització de les dades pper funcionar correctament, per tant guardarem les dades normalitzades a una altre variable que només utilitzarem a KNN."
   ]
  },
  {
   "cell_type": "code",
   "execution_count": 108,
   "id": "c4c9905c-a1ae-477c-9462-64a4aed07f64",
   "metadata": {},
   "outputs": [],
   "source": [
    "scaler_train = MinMaxScaler()\n",
    "scaler_train.fit(X_train)\n",
    "X_train_n = scaler_train.fit_transform(X_train)\n",
    "\n",
    "scaler_test = MinMaxScaler()\n",
    "scaler_test.fit(X_test)\n",
    "X_test_n = scaler_test.fit_transform(X_test)"
   ]
  },
  {
   "cell_type": "code",
   "execution_count": 109,
   "id": "6cdb817d-9b57-48ce-b150-7348930aff44",
   "metadata": {},
   "outputs": [
    {
     "name": "stdout",
     "output_type": "stream",
     "text": [
      "Time: 0.04739665985107422\n",
      "F1-Score: 0.7142857142857143\n",
      "              precision    recall  f1-score   support\n",
      "\n",
      "           0       1.00      1.00      1.00     56864\n",
      "           1       0.98      0.56      0.71        98\n",
      "\n",
      "    accuracy                           1.00     56962\n",
      "   macro avg       0.99      0.78      0.86     56962\n",
      "weighted avg       1.00      1.00      1.00     56962\n",
      "\n"
     ]
    }
   ],
   "source": [
    "start = time.time()\n",
    "knn = KNeighborsClassifier(n_neighbors=5).fit(X_train_n, y_train)\n",
    "end = time.time()\n",
    "print(\"Time:\", end - start)\n",
    "\n",
    "knn_pred = knn.predict(X_test_n)\n",
    "print(\"F1-Score:\", get_f1_score(y_test, knn_pred))\n",
    "print(get_classification_report(y_test, knn_pred))"
   ]
  },
  {
   "cell_type": "markdown",
   "id": "a3be4f72-344e-4359-8f51-17a3f7583ae3",
   "metadata": {},
   "source": [
    "KNN amb 5 n_neighbours te un 6% menys de F1-score però és molt ràpid, aquest model l'utilitzaré per fer Cross-Validation i optimitzar els seus hiperparàmetres, per veure si es pot arribar a superar als altres models."
   ]
  },
  {
   "cell_type": "markdown",
   "id": "233e716a-8265-4f9a-b92e-ec163eea6a91",
   "metadata": {},
   "source": [
    "### SVC"
   ]
  },
  {
   "cell_type": "code",
   "execution_count": 28,
   "id": "e117442d-3ef5-43ed-b5c1-b9f418e86db6",
   "metadata": {},
   "outputs": [
    {
     "name": "stdout",
     "output_type": "stream",
     "text": [
      "Time: 8.826568603515625\n",
      "F1-Score: 0.06578947368421052\n",
      "              precision    recall  f1-score   support\n",
      "\n",
      "           0       1.00      1.00      1.00     56864\n",
      "           1       0.09      0.05      0.07        98\n",
      "\n",
      "    accuracy                           1.00     56962\n",
      "   macro avg       0.55      0.53      0.53     56962\n",
      "weighted avg       1.00      1.00      1.00     56962\n",
      "\n"
     ]
    }
   ],
   "source": [
    "start = time.time()\n",
    "svm = SVC(kernel='sigmoid').fit(X_train, y_train)\n",
    "end = time.time()\n",
    "print(\"Time:\", end - start)\n",
    "\n",
    "svm_pred = svm.predict(X_test)\n",
    "print(\"F1-Score:\", get_f1_score(y_test, svm_pred))\n",
    "print(get_classification_report(y_test, svm_pred))"
   ]
  },
  {
   "cell_type": "markdown",
   "id": "2eab10a5-8f80-4d11-a458-18cc28ad5bdf",
   "metadata": {},
   "source": [
    "SVC amb un kernel sigmoidal té un F1-score pèssim i a sobre triga bastant temps, no el tindré en compte per a cross-validation, quan faci undersampling, al haber-hi menys dades tornaré a considerar-ho ja que no trigarà tant i així comprobaré si el motiu d'aquuesta puntuació es degut a l'imbalanceig a les dades."
   ]
  },
  {
   "cell_type": "code",
   "execution_count": 29,
   "id": "b625e8b7-c4c0-4c57-942c-a37c9f28b8b9",
   "metadata": {},
   "outputs": [
    {
     "name": "stdout",
     "output_type": "stream",
     "text": [
      "Time: 2.3151235580444336\n",
      "F1-Score: 0.7976878612716763\n",
      "              precision    recall  f1-score   support\n",
      "\n",
      "           0       1.00      1.00      1.00     56864\n",
      "           1       0.92      0.70      0.80        98\n",
      "\n",
      "    accuracy                           1.00     56962\n",
      "   macro avg       0.96      0.85      0.90     56962\n",
      "weighted avg       1.00      1.00      1.00     56962\n",
      "\n"
     ]
    }
   ],
   "source": [
    "start = time.time()\n",
    "linear_svm = LinearSVC().fit(X_train, y_train)\n",
    "end = time.time()\n",
    "print(\"Time:\", end - start)\n",
    "\n",
    "linear_svm_pred = linear_svm.predict(X_test)\n",
    "print(\"F1-Score:\", get_f1_score(y_test, linear_svm_pred))\n",
    "print(get_classification_report(y_test, linear_svm_pred))"
   ]
  },
  {
   "cell_type": "markdown",
   "id": "88a42661-51f5-4bae-afba-65432a8f39d9",
   "metadata": {},
   "source": [
    "SVC linear en canvi té un F1-score superior a Logistic Regression i KNN, tot i que no es tan ràpid com KNN si que obtenim suficient bons resultats com per utilitzar-ho per cross-validation i optimitzar els seus hiperparàmetres per obtenir el millor resultat possible."
   ]
  },
  {
   "cell_type": "markdown",
   "id": "b55091ed-f239-4125-8b71-5671aefa9850",
   "metadata": {},
   "source": [
    "### Decision Tree"
   ]
  },
  {
   "cell_type": "code",
   "execution_count": 113,
   "id": "56939417-cdb2-4c95-b295-13c4ae661e92",
   "metadata": {},
   "outputs": [
    {
     "name": "stdout",
     "output_type": "stream",
     "text": [
      "Time: 6.476154088973999\n",
      "F1-Score: 0.8465608465608465\n",
      "              precision    recall  f1-score   support\n",
      "\n",
      "           0       1.00      1.00      1.00     56864\n",
      "           1       0.88      0.82      0.85        98\n",
      "\n",
      "    accuracy                           1.00     56962\n",
      "   macro avg       0.94      0.91      0.92     56962\n",
      "weighted avg       1.00      1.00      1.00     56962\n",
      "\n"
     ]
    }
   ],
   "source": [
    "start = time.time()\n",
    "dtc = DecisionTreeClassifier(max_depth= 6).fit(X_train, y_train)\n",
    "end = time.time()\n",
    "print(\"Time:\", end - start)\n",
    "\n",
    "dtc_pred = dtc.predict(X_test)\n",
    "print(\"F1-Score:\", get_f1_score(y_test, dtc_pred))\n",
    "print(get_classification_report(y_test, dtc_pred))"
   ]
  },
  {
   "cell_type": "markdown",
   "id": "1ddecfa6-5c6f-47cf-aa03-6084b4137c81",
   "metadata": {},
   "source": [
    "Tot i que obtenim millors resultats que amb SVC linear, triga molt més temps en entrenar, aquest model no el tindré en compte per a Oversampling, ja que al haber-hi més dades trigarà encara més.\n",
    "Si no indico max_depth, triga 20s en comptes dels 11 que triga amb max_depth=10."
   ]
  },
  {
   "cell_type": "markdown",
   "id": "6d081cf8-7829-4a49-8685-0b070fb88ecd",
   "metadata": {},
   "source": [
    "### Random Forest"
   ]
  },
  {
   "cell_type": "code",
   "execution_count": 114,
   "id": "852c7c80-b9f9-49f6-83f8-7dc6bb1913cb",
   "metadata": {},
   "outputs": [
    {
     "name": "stdout",
     "output_type": "stream",
     "text": [
      "Time: 14.267889022827148\n",
      "F1-Score: 0.8743169398907104\n",
      "              precision    recall  f1-score   support\n",
      "\n",
      "           0       1.00      1.00      1.00     56864\n",
      "           1       0.94      0.82      0.87        98\n",
      "\n",
      "    accuracy                           1.00     56962\n",
      "   macro avg       0.97      0.91      0.94     56962\n",
      "weighted avg       1.00      1.00      1.00     56962\n",
      "\n"
     ]
    }
   ],
   "source": [
    "start = time.time()\n",
    "rf = RandomForestClassifier(max_depth= 6, n_jobs=-1).fit(X_train, y_train)\n",
    "end = time.time()\n",
    "print(\"Time:\", end - start)\n",
    "\n",
    "rf_pred = rf.predict(X_test)\n",
    "print(\"F1-Score:\", get_f1_score(y_test, rf_pred))\n",
    "print(get_classification_report(y_test, rf_pred))"
   ]
  },
  {
   "cell_type": "markdown",
   "id": "ba7ea38e-6849-4278-8fac-3529d5cb04c0",
   "metadata": {},
   "source": [
    "Tot i que Random Forest es el millor model fins ara, es molt lent com per considerar-ho per fer cross-validation. Quan apliqui undersampling al haber-hi moltes menys entrades aquest inconvenient del temps no serà tant significatiu i ho tornaré a considerar, però quan apliqui Oversampling n'hi haurà encara més dades que ara i anirà encara més lent, per aquest motiu no el tindré en compte."
   ]
  },
  {
   "cell_type": "markdown",
   "id": "0a5ebd3d-7161-4c01-9820-ab1848a7c599",
   "metadata": {},
   "source": [
    "### XGB"
   ]
  },
  {
   "cell_type": "code",
   "execution_count": 32,
   "id": "2506c962-0a1e-462c-a6c3-9191608b5dfb",
   "metadata": {},
   "outputs": [
    {
     "name": "stdout",
     "output_type": "stream",
     "text": [
      "Time: 1.4220654964447021\n",
      "F1-Score: 0.8877005347593583\n",
      "              precision    recall  f1-score   support\n",
      "\n",
      "           0       1.00      1.00      1.00     56864\n",
      "           1       0.93      0.85      0.89        98\n",
      "\n",
      "    accuracy                           1.00     56962\n",
      "   macro avg       0.97      0.92      0.94     56962\n",
      "weighted avg       1.00      1.00      1.00     56962\n",
      "\n"
     ]
    }
   ],
   "source": [
    "start = time.time()\n",
    "xgb = XGBClassifier(n_jobs=-1).fit(X_train, y_train)\n",
    "end = time.time()\n",
    "print(\"Time:\", end - start)\n",
    "\n",
    "xgb_pred = xgb.predict(X_test)\n",
    "print(\"F1-Score:\", get_f1_score(y_test, xgb_pred))\n",
    "print(get_classification_report(y_test, xgb_pred))"
   ]
  },
  {
   "cell_type": "markdown",
   "id": "0a3ccb19-2872-4326-b32c-e7ac31d33438",
   "metadata": {},
   "source": [
    "XGB té el millor resultat fins ara, molt similar a l'obtingut amb random forest però sent 6 vegades més ràpid. Si només pugués utilitzar un model a partir d'ara aquest sería el que escolliria basant-me en aquest resultat."
   ]
  },
  {
   "cell_type": "markdown",
   "id": "b337e41c-3bc7-4bf1-81bb-f0dc1c78a389",
   "metadata": {},
   "source": [
    "### Cross-Validation"
   ]
  },
  {
   "cell_type": "code",
   "execution_count": 115,
   "id": "dd7692ea-7613-493a-b25d-294a86488ebf",
   "metadata": {},
   "outputs": [
    {
     "name": "stdout",
     "output_type": "stream",
     "text": [
      "Logistic Regression - Mean: 0.7006029725067789 STD: 0.06075303607619582\n",
      "KNN - Mean: 0.839370850360965 STD: 0.0431805909385037\n",
      "Linear SVC - Mean: 0.6750636878990666 STD: 0.058788002430346625\n",
      "Decision Tree - Mean: 0.812146375791696 STD: 0.02653946245723401\n",
      "XGB - Mean: 0.858393121753721 STD: 0.035584629334951684\n"
     ]
    }
   ],
   "source": [
    "log_reg_cv = cross_val_score(log_reg, X_train, y_train, scoring=\"f1\", cv = 5)\n",
    "knn_cv = cross_val_score(knn, X_train_n, y_train, scoring=\"f1\", cv = 5)\n",
    "linear_svm_cv = cross_val_score(linear_svm, X_train, y_train, scoring=\"f1\", cv = 5)\n",
    "dtc_cv = cross_val_score(dtc, X_train, y_train, scoring=\"f1\", cv = 5)\n",
    "xgb_cv = cross_val_score(xgb, X_train, y_train, scoring=\"f1\", cv = 5)\n",
    "\n",
    "print(\"Logistic Regression - Mean:\", log_reg_cv.mean(), \"STD:\", log_reg_cv.std())\n",
    "print(\"KNN - Mean:\", knn_cv.mean(), \"STD:\", knn_cv.std())\n",
    "print(\"Linear SVC - Mean:\", linear_svm_cv.mean(), \"STD:\", linear_svm_cv.std())\n",
    "print(\"Decision Tree - Mean:\", dtc_cv.mean(), \"STD:\", dtc_cv.std())\n",
    "print(\"XGB - Mean:\", xgb_cv.mean(), \"STD:\", xgb_cv.std())"
   ]
  },
  {
   "cell_type": "markdown",
   "id": "36484308-24fa-4eec-962b-e57e94aaf8e9",
   "metadata": {},
   "source": [
    "Podem observar amb aquests resultats de cross-validation que el millor model i el més consistent amb els paràmetres utilitzats es XGB seguit de KNN.\n",
    "\n",
    "Tot i que KNN té un molt bon resultat, succeix per overfitting, ja que la predicció al test només era de 71%.\n",
    "\n",
    "Ara utilitzaré Cross-Validation per probar diferents hiperàrametres per al model XGB per veuré si es pot millorar. Només utilitzaré aquest model ja que es el que millor puntuació ha obtingut i triga considerablement menys que Decision Tree\n",
    "\n",
    "No faré hyper-parameter tuning the Decision tree tot i que te bastant bó F1-score perqué es molt lent, aquest model el probaré amb undersampling quan n'hi hagi menys dades."
   ]
  },
  {
   "cell_type": "markdown",
   "id": "c0035649-87f3-4097-a17f-ec9ee178d50c",
   "metadata": {},
   "source": [
    "### Hyper-Parameter Tuning"
   ]
  },
  {
   "cell_type": "markdown",
   "id": "61b2dcc1-732a-4d21-b9a8-a54438f8b507",
   "metadata": {},
   "source": [
    "#### <ins>XGB</ins>"
   ]
  },
  {
   "cell_type": "code",
   "execution_count": 91,
   "id": "4d653f0d-fc53-4a17-8da7-34b69909ff42",
   "metadata": {},
   "outputs": [
    {
     "name": "stdout",
     "output_type": "stream",
     "text": [
      "Time: 114.45568013191223\n",
      "Best set of hyperparameters:  {'learning_rate': 0.1, 'max_delta_step': 0, 'min_split_loss': 0}\n",
      "Best score:  1.0\n"
     ]
    }
   ],
   "source": [
    "param_grid = {\n",
    "    'min_split_loss': [0, 5, 10],\n",
    "    'max_delta_step': [0, 3, 8],\n",
    "    'learning_rate': [0.1, 0.3, 0.5]\n",
    "}\n",
    "\n",
    "start = time.time()\n",
    "\n",
    "xgb_ht = XGBClassifier(n_jobs=-1)\n",
    "grid_search = GridSearchCV(xgb_ht, param_grid, cv=5, scoring='f1')\n",
    "\n",
    "grid_search.fit(X_train, y_train)\n",
    "\n",
    "end = time.time()\n",
    "print(\"Time:\", end - start)\n",
    "\n",
    "print(\"Best set of hyperparameters: \", grid_search.best_params_)\n",
    "print(\"Best score: \", grid_search.best_score_)"
   ]
  },
  {
   "cell_type": "code",
   "execution_count": 92,
   "id": "d8f98bc6-aacb-4477-8fbf-c9247b5c46db",
   "metadata": {},
   "outputs": [
    {
     "name": "stdout",
     "output_type": "stream",
     "text": [
      "Time: 0.863804817199707\n",
      "F1-Score: 0.7926267281105991\n",
      "              precision    recall  f1-score   support\n",
      "\n",
      "           0       1.00      1.00      1.00     56864\n",
      "           1       0.72      0.88      0.79        98\n",
      "\n",
      "    accuracy                           1.00     56962\n",
      "   macro avg       0.86      0.94      0.90     56962\n",
      "weighted avg       1.00      1.00      1.00     56962\n",
      "\n"
     ]
    }
   ],
   "source": [
    "start = time.time()\n",
    "xgb_best = XGBClassifier(n_jobs=-1, max_delta_step=0, learning_rate=0.1, min_split_loss=0).fit(X_train, y_train)\n",
    "end = time.time()\n",
    "print(\"Time:\", end - start)\n",
    "\n",
    "xgb_pred = xgb.predict(X_test)\n",
    "print(\"F1-Score:\", get_f1_score(y_test, xgb_pred))\n",
    "print(get_classification_report(y_test, xgb_pred))"
   ]
  },
  {
   "cell_type": "markdown",
   "id": "e2534ab5-07e6-4aed-8e47-32984b849fe4",
   "metadata": {},
   "source": [
    "## <ins>Undersample</ins>"
   ]
  },
  {
   "cell_type": "code",
   "execution_count": 119,
   "id": "da0223bb-d125-48f4-bfc8-aa862b351fe6",
   "metadata": {},
   "outputs": [
    {
     "data": {
      "text/plain": [
       "Text(0.5, 1.0, 'After')"
      ]
     },
     "execution_count": 119,
     "metadata": {},
     "output_type": "execute_result"
    },
    {
     "data": {
      "image/png": "[encoded data removed]",
      "text/plain": [
       "<Figure size 1100x450 with 2 Axes>"
      ]
     },
     "metadata": {},
     "output_type": "display_data"
    }
   ],
   "source": [
    "import imblearn\n",
    "from imblearn.under_sampling import RandomUnderSampler \n",
    "\n",
    "undersample = RandomUnderSampler()\n",
    "\n",
    "X_under, y_under = undersample.fit_resample(X_train, y_train)\n",
    "\n",
    "y_under_df = pd.DataFrame(y_under, columns = ['Class'])\n",
    "\n",
    "#visualizing undersampling results\n",
    "fig, axs = plt.subplots(ncols=2, figsize=(11,4.5))\n",
    "sns.countplot(x=\"Class\", data=df, ax=axs[0])\n",
    "sns.countplot(x=\"Class\", data=y_under_df, ax=axs[1])\n",
    "\n",
    "fig.suptitle(\"Class repartition before and after undersampling\")\n",
    "a1=fig.axes[0]\n",
    "a1.set_title(\"Before\")\n",
    "a2=fig.axes[1]\n",
    "a2.set_title(\"After\")"
   ]
  },
  {
   "cell_type": "markdown",
   "id": "a1694e21-a610-4925-b659-b3b3c0d32640",
   "metadata": {},
   "source": [
    "### Cross-Validation"
   ]
  },
  {
   "cell_type": "code",
   "execution_count": 144,
   "id": "58a994c6-92b9-4d8f-96c0-478065c9c371",
   "metadata": {},
   "outputs": [
    {
     "name": "stdout",
     "output_type": "stream",
     "text": [
      "Logistic Regression - Mean: 0.9355423803814482 STD: 0.03720117726046531\n",
      "KNN - Mean: 0.920803398862876 STD: 0.016589956397891875\n",
      "Linear SVC - Mean: 0.9355763333565775 STD: 0.03809651700425594\n",
      "Decision Tree - Mean: 0.9112608273857503 STD: 0.03237703320847673\n",
      "XGB - Mean: 0.9355847365301191 STD: 0.021315649243782136\n"
     ]
    }
   ],
   "source": [
    "log_reg_cv = cross_val_score(log_reg, X_under, y_under, scoring=\"f1\", cv = 5)\n",
    "knn_cv = cross_val_score(knn, X_under_n, y_under, scoring=\"f1\", cv = 5)\n",
    "linear_svm_cv = cross_val_score(linear_svm, X_under, y_under, scoring=\"f1\", cv = 5)\n",
    "dtc_cv = cross_val_score(dtc, X_under, y_under, scoring=\"f1\", cv = 5)\n",
    "xgb_cv = cross_val_score(xgb, X_under, y_under, scoring=\"f1\", cv = 5)\n",
    "\n",
    "print(\"Logistic Regression - Mean:\", log_reg_cv.mean(), \"STD:\", log_reg_cv.std())\n",
    "print(\"KNN - Mean:\", knn_cv.mean(), \"STD:\", knn_cv.std())\n",
    "print(\"Linear SVC - Mean:\", linear_svm_cv.mean(), \"STD:\", linear_svm_cv.std())\n",
    "print(\"Decision Tree - Mean:\", dtc_cv.mean(), \"STD:\", dtc_cv.std())\n",
    "print(\"XGB - Mean:\", xgb_cv.mean(), \"STD:\", xgb_cv.std())"
   ]
  },
  {
   "cell_type": "markdown",
   "id": "6a5191df-3d36-4f96-b672-2ad99ec887ab",
   "metadata": {},
   "source": [
    "Es pot observar que les puntuacions són molt millers que abans de fer undersampling, però anem a evaluar amb el test per veure si es tracta d'overfitting."
   ]
  },
  {
   "cell_type": "markdown",
   "id": "a2a94170-9b82-4446-b263-03c5a6c904c1",
   "metadata": {},
   "source": [
    "### Logistic Regression"
   ]
  },
  {
   "cell_type": "code",
   "execution_count": 121,
   "id": "aae3bfbd-5766-409b-a4cb-b69cbc8f7b8f",
   "metadata": {},
   "outputs": [
    {
     "name": "stdout",
     "output_type": "stream",
     "text": [
      "Classification Report:               precision    recall  f1-score   support\n",
      "\n",
      "           0       1.00      0.97      0.99     56864\n",
      "           1       0.05      0.93      0.10        98\n",
      "\n",
      "    accuracy                           0.97     56962\n",
      "   macro avg       0.53      0.95      0.54     56962\n",
      "weighted avg       1.00      0.97      0.98     56962\n",
      "\n"
     ]
    }
   ],
   "source": [
    "log_reg = LogisticRegression(max_iter= 50000, random_state = 1).fit(X_under, y_under)\n",
    "test_pred = log_reg.predict(X_test)\n",
    "\n",
    "print(\"Classification Report:\", get_classification_report(y_test, test_pred))"
   ]
  },
  {
   "cell_type": "markdown",
   "id": "03a1b1e4-6ce9-462e-85d6-362488c03c6c",
   "metadata": {},
   "source": [
    "### KNN"
   ]
  },
  {
   "cell_type": "code",
   "execution_count": 123,
   "id": "4e3c4b86-f9f6-4869-a510-343d6d79894e",
   "metadata": {},
   "outputs": [],
   "source": [
    "scaler_train = MinMaxScaler()\n",
    "scaler_train.fit(X_under)\n",
    "X_under_n = scaler_train.fit_transform(X_under)"
   ]
  },
  {
   "cell_type": "code",
   "execution_count": 124,
   "id": "265691da-1484-495e-83b6-d4c6c16f0a74",
   "metadata": {},
   "outputs": [
    {
     "name": "stdout",
     "output_type": "stream",
     "text": [
      "Time: 0.001508951187133789\n",
      "F1-Score: 0.0034634482514887526\n",
      "              precision    recall  f1-score   support\n",
      "\n",
      "           0       1.00      0.01      0.02     56864\n",
      "           1       0.00      1.00      0.00        98\n",
      "\n",
      "    accuracy                           0.01     56962\n",
      "   macro avg       0.50      0.50      0.01     56962\n",
      "weighted avg       1.00      0.01      0.02     56962\n",
      "\n"
     ]
    }
   ],
   "source": [
    "start = time.time()\n",
    "knn = KNeighborsClassifier(n_neighbors=5).fit(X_under_n, y_under)\n",
    "end = time.time()\n",
    "print(\"Time:\", end - start)\n",
    "\n",
    "knn_pred = knn.predict(X_test_n)\n",
    "print(\"F1-Score:\", get_f1_score(y_test, knn_pred))\n",
    "print(get_classification_report(y_test, knn_pred))"
   ]
  },
  {
   "cell_type": "markdown",
   "id": "80a2b039-89f9-41e3-b851-7377e55728ed",
   "metadata": {},
   "source": [
    "### Support Vector Machine Classification"
   ]
  },
  {
   "cell_type": "code",
   "execution_count": 128,
   "id": "79b3e6b6-71df-4086-8319-fdf2a597fdd4",
   "metadata": {},
   "outputs": [
    {
     "name": "stdout",
     "output_type": "stream",
     "text": [
      "Time: 0.015668392181396484\n",
      "F1-Score: 0.09900990099009901\n",
      "              precision    recall  f1-score   support\n",
      "\n",
      "           0       1.00      0.97      0.99     56864\n",
      "           1       0.05      0.92      0.10        98\n",
      "\n",
      "    accuracy                           0.97     56962\n",
      "   macro avg       0.53      0.94      0.54     56962\n",
      "weighted avg       1.00      0.97      0.98     56962\n",
      "\n"
     ]
    }
   ],
   "source": [
    "start = time.time()\n",
    "linear_svm = LinearSVC().fit(X_under, y_under)\n",
    "end = time.time()\n",
    "print(\"Time:\", end - start)\n",
    "\n",
    "linear_svm_pred = linear_svm.predict(X_test)\n",
    "print(\"F1-Score:\", get_f1_score(y_test, linear_svm_pred))\n",
    "print(get_classification_report(y_test, linear_svm_pred))"
   ]
  },
  {
   "cell_type": "markdown",
   "id": "a2405630-55f2-483a-9a03-934f99b86dd8",
   "metadata": {},
   "source": [
    "### Decision Tree Classifier"
   ]
  },
  {
   "cell_type": "code",
   "execution_count": 130,
   "id": "29fc2ac6-d498-4546-b631-73b1345a3400",
   "metadata": {},
   "outputs": [
    {
     "name": "stdout",
     "output_type": "stream",
     "text": [
      "Time: 0.01577305793762207\n",
      "F1-Score: 0.05338932213557288\n",
      "              precision    recall  f1-score   support\n",
      "\n",
      "           0       1.00      0.94      0.97     56864\n",
      "           1       0.03      0.91      0.05        98\n",
      "\n",
      "    accuracy                           0.94     56962\n",
      "   macro avg       0.51      0.93      0.51     56962\n",
      "weighted avg       1.00      0.94      0.97     56962\n",
      "\n"
     ]
    }
   ],
   "source": [
    "start = time.time()\n",
    "dtc = DecisionTreeClassifier(max_depth= 6).fit(X_under, y_under)\n",
    "end = time.time()\n",
    "print(\"Time:\", end - start)\n",
    "\n",
    "dtc_pred = dtc.predict(X_test)\n",
    "print(\"F1-Score:\", get_f1_score(y_test, dtc_pred))\n",
    "print(get_classification_report(y_test, dtc_pred))"
   ]
  },
  {
   "cell_type": "markdown",
   "id": "cb4f893f-44a4-4530-adab-82397af17c59",
   "metadata": {},
   "source": [
    "### Random Forest"
   ]
  },
  {
   "cell_type": "code",
   "execution_count": 131,
   "id": "658d2860-9e3f-4b95-9c81-d3f0f351ecb6",
   "metadata": {},
   "outputs": [
    {
     "name": "stdout",
     "output_type": "stream",
     "text": [
      "Time: 0.18438410758972168\n",
      "F1-Score: 0.1488833746898263\n",
      "              precision    recall  f1-score   support\n",
      "\n",
      "           0       1.00      0.98      0.99     56864\n",
      "           1       0.08      0.92      0.15        98\n",
      "\n",
      "    accuracy                           0.98     56962\n",
      "   macro avg       0.54      0.95      0.57     56962\n",
      "weighted avg       1.00      0.98      0.99     56962\n",
      "\n"
     ]
    }
   ],
   "source": [
    "start = time.time()\n",
    "rf = RandomForestClassifier(max_depth= 6, n_jobs=-1).fit(X_under, y_under)\n",
    "end = time.time()\n",
    "print(\"Time:\", end - start)\n",
    "\n",
    "rf_pred = rf.predict(X_test)\n",
    "print(\"F1-Score:\", get_f1_score(y_test, rf_pred))\n",
    "print(get_classification_report(y_test, rf_pred))"
   ]
  },
  {
   "cell_type": "markdown",
   "id": "05f52228-c2ca-4a61-8fe6-afe63ff00506",
   "metadata": {},
   "source": [
    "### XGB"
   ]
  },
  {
   "cell_type": "code",
   "execution_count": 132,
   "id": "f90594a8-5fa8-44a3-bc5f-6e86a79f6432",
   "metadata": {},
   "outputs": [
    {
     "name": "stdout",
     "output_type": "stream",
     "text": [
      "Time: 0.1254127025604248\n",
      "F1-Score: 0.0794816414686825\n",
      "              precision    recall  f1-score   support\n",
      "\n",
      "           0       1.00      0.96      0.98     56864\n",
      "           1       0.04      0.94      0.08        98\n",
      "\n",
      "    accuracy                           0.96     56962\n",
      "   macro avg       0.52      0.95      0.53     56962\n",
      "weighted avg       1.00      0.96      0.98     56962\n",
      "\n"
     ]
    }
   ],
   "source": [
    "start = time.time()\n",
    "xgb = XGBClassifier(n_jobs=-1).fit(X_under, y_under)\n",
    "end = time.time()\n",
    "print(\"Time:\", end - start)\n",
    "\n",
    "xgb_pred = xgb.predict(X_test)\n",
    "print(\"F1-Score:\", get_f1_score(y_test, xgb_pred))\n",
    "print(get_classification_report(y_test, xgb_pred))"
   ]
  },
  {
   "cell_type": "markdown",
   "id": "8da9f8db-94cc-4f24-806c-a7aa1eb10579",
   "metadata": {},
   "source": [
    "Les prediccions al test son molt dolentes, per tant, es tracta d'overfitting."
   ]
  },
  {
   "cell_type": "markdown",
   "id": "a79c7ee2-2ac3-4ee7-9efe-8d73840f5470",
   "metadata": {},
   "source": [
    "## <ins>Oversample</ins>"
   ]
  },
  {
   "cell_type": "code",
   "execution_count": 7,
   "id": "3c770545-4155-4c1a-bd5d-b68abe8835b8",
   "metadata": {},
   "outputs": [
    {
     "data": {
      "text/plain": [
       "Text(0.5, 1.0, 'After')"
      ]
     },
     "execution_count": 7,
     "metadata": {},
     "output_type": "execute_result"
    },
    {
     "data": {
      "image/png": "[encoded data removed]",
      "text/plain": [
       "<Figure size 1100x450 with 2 Axes>"
      ]
     },
     "metadata": {},
     "output_type": "display_data"
    }
   ],
   "source": [
    "from imblearn.over_sampling import SMOTE\n",
    "\n",
    "smote = SMOTE(random_state=42)\n",
    "X_over, y_over = smote.fit_resample(X_train, y_train)\n",
    "\n",
    "y_over_df = pd.DataFrame(y_over, columns = ['Class'])\n",
    "\n",
    "#visualizing undersampling results\n",
    "fig, axs = plt.subplots(ncols=2, figsize=(11,4.5))\n",
    "sns.countplot(x=\"Class\", data=df, ax=axs[0])\n",
    "sns.countplot(x=\"Class\", data=y_over_df, ax=axs[1])\n",
    "\n",
    "fig.suptitle(\"Class repartition before and after oversampling\")\n",
    "a1=fig.axes[0]\n",
    "a1.set_title(\"Before\")\n",
    "a2=fig.axes[1]\n",
    "a2.set_title(\"After\")"
   ]
  },
  {
   "cell_type": "markdown",
   "id": "82e8f7e0-e16c-49d9-acd8-195ba83ea6db",
   "metadata": {},
   "source": [
    "### Cross-Validation"
   ]
  },
  {
   "cell_type": "code",
   "execution_count": 8,
   "id": "1d472902-45cf-4236-bb7e-c83fb563000e",
   "metadata": {},
   "outputs": [
    {
     "name": "stderr",
     "output_type": "stream",
     "text": [
      "C:\\Users\\danig\\miniconda3\\Lib\\site-packages\\numpy\\_core\\fromnumeric.py:57: FutureWarning: 'DataFrame.swapaxes' is deprecated and will be removed in a future version. Please use 'DataFrame.transpose' instead.\n",
      "  return bound(*args, **kwds)\n"
     ]
    }
   ],
   "source": [
    "new_df = X_train\n",
    "new_df['Class'] = y_train\n",
    "folds = np.array_split(new_df, 5)"
   ]
  },
  {
   "cell_type": "code",
   "execution_count": 14,
   "id": "8627de16-09c6-485b-bc83-74c386a91fad",
   "metadata": {},
   "outputs": [],
   "source": [
    "import copy\n",
    "\n",
    "def cross_val(folds, max_depth=6, gamma=0, eta=0.3):\n",
    "    best_f1 = 0\n",
    "    best_model = None\n",
    "    f1_mean = 0\n",
    "    \n",
    "    for i, df_i in enumerate(folds):\n",
    "        test = df_i\n",
    "        emptyTrain = True\n",
    "        for j, df_j in enumerate(folds):\n",
    "            if i == j:\n",
    "                continue            \n",
    "            if emptyTrain:\n",
    "                train = df_j\n",
    "                emptyTrain = False\n",
    "            else:\n",
    "                train = pd.concat([train, df_j])\n",
    "    \n",
    "        k_y_train = train['Class']\n",
    "        k_X_train = train.drop(['Class'], axis=1)\n",
    "    \n",
    "        k_y_test = test['Class']\n",
    "        k_X_test = test.drop(['Class'], axis=1)\n",
    "        \n",
    "        smote = SMOTE(sampling_strategy='minority')\n",
    "        X_over, y_over = smote.fit_resample(k_X_train, k_y_train)\n",
    "            \n",
    "        start = time.time()\n",
    "        xgb = XGBClassifier(n_jobs=-1, max_depth=max_depth, min_split_loss=gamma, learning_rate=eta).fit(X_over, y_over)\n",
    "        xgb_pred = xgb.predict(k_X_test)\n",
    "        f1 = get_f1_score(k_y_test, xgb_pred)\n",
    "        end = time.time()\n",
    "            \n",
    "        if f1 > best_f1:\n",
    "            best_f1 = f1\n",
    "            best_model = copy.deepcopy(xgb)\n",
    "        \n",
    "        f1_mean += f1\n",
    "    \n",
    "    f1_mean = f1_mean / 5\n",
    "    return f1_mean, best_f1, best_model"
   ]
  },
  {
   "cell_type": "code",
   "execution_count": 19,
   "id": "da2ea7a3-f5cb-419b-ab25-6f113290dac7",
   "metadata": {},
   "outputs": [
    {
     "name": "stdout",
     "output_type": "stream",
     "text": [
      "----- Results -----\n",
      "Mean: 0.8151784606961863\n",
      "Best: 0.8539325842696629\n"
     ]
    }
   ],
   "source": [
    "f1_mean, best_f1, best_model = cross_val(folds)\n",
    "print(\"----- Results -----\")\n",
    "print(\"Mean:\", f1_mean)\n",
    "print(\"Best:\", best_f1)"
   ]
  },
  {
   "cell_type": "code",
   "execution_count": 22,
   "id": "29a871da-db9e-486a-8272-0d497339d2d6",
   "metadata": {},
   "outputs": [
    {
     "name": "stdout",
     "output_type": "stream",
     "text": [
      "F1 Score: 0.8269230769230769\n"
     ]
    }
   ],
   "source": [
    "best_pred = best_model.predict(X_test)\n",
    "print(\"F1 Score:\", get_f1_score(y_test, best_pred))"
   ]
  },
  {
   "cell_type": "code",
   "execution_count": 23,
   "id": "4f1c7e30-6d10-41df-97fa-08ef99772c89",
   "metadata": {},
   "outputs": [
    {
     "name": "stdout",
     "output_type": "stream",
     "text": [
      "Time: 2.7308237552642822\n",
      "F1-Score: 0.8301886792452831\n",
      "              precision    recall  f1-score   support\n",
      "\n",
      "           0       1.00      1.00      1.00     56864\n",
      "           1       0.77      0.90      0.83        98\n",
      "\n",
      "    accuracy                           1.00     56962\n",
      "   macro avg       0.89      0.95      0.91     56962\n",
      "weighted avg       1.00      1.00      1.00     56962\n",
      "\n"
     ]
    }
   ],
   "source": [
    "start = time.time()\n",
    "xgb = XGBClassifier(n_jobs=-1).fit(X_over, y_over)\n",
    "end = time.time()\n",
    "print(\"Time:\", end - start)\n",
    "\n",
    "xgb_pred = xgb.predict(X_test)\n",
    "print(\"F1-Score:\", get_f1_score(y_test, xgb_pred))\n",
    "print(get_classification_report(y_test, xgb_pred))"
   ]
  },
  {
   "cell_type": "markdown",
   "id": "3029e914-1f35-48f5-9090-b0f8e6ccc9ac",
   "metadata": {},
   "source": [
    "### Hyper-Parameter Tuning"
   ]
  },
  {
   "cell_type": "markdown",
   "id": "026fce18-b85b-446f-bd89-ff0fd3861d1a",
   "metadata": {},
   "source": [
    "#### <ins>Max-Depth</ins>"
   ]
  },
  {
   "cell_type": "code",
   "execution_count": 24,
   "id": "c143757c-e056-4c43-b44a-879a0304ccb5",
   "metadata": {},
   "outputs": [],
   "source": [
    "f1_mean_4, f1_best_4, best_model_4  = cross_val(folds, 4)\n",
    "f1_mean_6, f1_best_6, best_model_6  = cross_val(folds, 6)\n",
    "f1_mean_8, f1_best_8, best_model_8  = cross_val(folds, 8)"
   ]
  },
  {
   "cell_type": "code",
   "execution_count": 31,
   "id": "520cb99d-6aec-4f4e-b93d-bd3e061a82c5",
   "metadata": {},
   "outputs": [],
   "source": [
    "f1_mean_10, f1_best_10, best_model_10  = cross_val(folds, 10)\n",
    "f1_mean_12, f1_best_14, best_model_12  = cross_val(folds, 12)\n",
    "f1_mean_14, f1_best_14, best_model_14  = cross_val(folds, 14)"
   ]
  },
  {
   "cell_type": "code",
   "execution_count": 32,
   "id": "fc4aedcb-a60b-4363-b1d4-d1d377b34f55",
   "metadata": {},
   "outputs": [
    {
     "data": {
      "image/png": "[encoded data removed]",
      "text/plain": [
       "<Figure size 300x200 with 1 Axes>"
      ]
     },
     "metadata": {},
     "output_type": "display_data"
    }
   ],
   "source": [
    "plt.rcParams[\"figure.figsize\"] = [3, 2]\n",
    "plt.rcParams[\"figure.autolayout\"] = True\n",
    "fig, axs = plt.subplots(1, 1)\n",
    "data = [[str(f1_mean_4)],\n",
    "        [str(f1_mean_6)],\n",
    "        [str(f1_mean_8)],\n",
    "        [str(f1_mean_10)],\n",
    "        [str(f1_mean_12)],\n",
    "        [str(f1_mean_14)]]\n",
    "columns = ('Mean')\n",
    "rows= ('Max_Depth=4', 'Max_Depth=6', 'Max_Depth=8', 'Max_Depth=10', 'Max_Depth=12', 'Max_Depth=14')\n",
    "axs.axis('tight')\n",
    "axs.axis('off')\n",
    "the_table = axs.table(cellText=data, colLabels=columns, rowLabels=rows, loc='center')\n",
    "plt.show()"
   ]
  },
  {
   "cell_type": "code",
   "execution_count": 26,
   "id": "dfbc45a7-dbd9-4078-b46a-d096147d57e5",
   "metadata": {},
   "outputs": [
    {
     "name": "stdout",
     "output_type": "stream",
     "text": [
      "Max Depth 4\n",
      "F1-Score: 0.6872586872586872\n",
      "Max Depth 6\n",
      "F1-Score: 0.8301886792452831\n",
      "Max Depth 8\n",
      "F1-Score: 0.8309178743961353\n",
      "Max Depth 10\n",
      "F1-Score: 0.8390243902439024\n"
     ]
    }
   ],
   "source": [
    "print('Max Depth 4')\n",
    "xgb = XGBClassifier(n_jobs=-1, max_depth=4).fit(X_over, y_over)\n",
    "xgb_pred = xgb.predict(X_test)\n",
    "print(\"F1-Score:\", get_f1_score(y_test, xgb_pred))\n",
    "\n",
    "print('Max Depth 6')\n",
    "xgb = XGBClassifier(n_jobs=-1, max_depth=6).fit(X_over, y_over)\n",
    "xgb_pred = xgb.predict(X_test)\n",
    "print(\"F1-Score:\", get_f1_score(y_test, xgb_pred))\n",
    "\n",
    "print('Max Depth 8')\n",
    "xgb = XGBClassifier(n_jobs=-1, max_depth=8).fit(X_over, y_over)\n",
    "xgb_pred = xgb.predict(X_test)\n",
    "print(\"F1-Score:\", get_f1_score(y_test, xgb_pred))\n",
    "\n",
    "print('Max Depth 10')\n",
    "xgb = XGBClassifier(n_jobs=-1, max_depth=10).fit(X_over, y_over)\n",
    "xgb_pred = xgb.predict(X_test)\n",
    "print(\"F1-Score:\", get_f1_score(y_test, xgb_pred))"
   ]
  },
  {
   "cell_type": "code",
   "execution_count": 33,
   "id": "d52b05bb-15e5-4ff4-bd05-4a21cfe59f3c",
   "metadata": {},
   "outputs": [
    {
     "name": "stdout",
     "output_type": "stream",
     "text": [
      "Max Depth 12\n",
      "F1-Score: 0.8365384615384616\n",
      "Max Depth 14\n",
      "F1-Score: 0.8365384615384616\n"
     ]
    }
   ],
   "source": [
    "print('Max Depth 12')\n",
    "xgb = XGBClassifier(n_jobs=-1, max_depth=12).fit(X_over, y_over)\n",
    "xgb_pred = xgb.predict(X_test)\n",
    "print(\"F1-Score:\", get_f1_score(y_test, xgb_pred))\n",
    "print('Max Depth 14')\n",
    "xgb = XGBClassifier(n_jobs=-1, max_depth=14).fit(X_over, y_over)\n",
    "xgb_pred = xgb.predict(X_test)\n",
    "print(\"F1-Score:\", get_f1_score(y_test, xgb_pred))"
   ]
  },
  {
   "cell_type": "markdown",
   "id": "1c38e5d3-f918-4291-bbb5-b47219e8dac4",
   "metadata": {},
   "source": [
    "#### <ins>Gamma</ins>"
   ]
  },
  {
   "cell_type": "code",
   "execution_count": 36,
   "id": "1e1f14fc-fa57-45d5-83fa-ee63147276b4",
   "metadata": {},
   "outputs": [],
   "source": [
    "f1_mean_4, f1_best_4, best_model_4  = cross_val(folds, 10, 0)\n",
    "f1_mean_6, f1_best_6, best_model_6  = cross_val(folds, 10, 0.1)\n",
    "f1_mean_8, f1_best_8, best_model_8  = cross_val(folds, 10, 1)"
   ]
  },
  {
   "cell_type": "code",
   "execution_count": 37,
   "id": "05f72cd7-7c56-4a41-8ba0-d45dd6fd6d3c",
   "metadata": {},
   "outputs": [],
   "source": [
    "f1_mean_10, f1_best_10, best_model_10  = cross_val(folds, 10, 2)\n",
    "f1_mean_12, f1_best_12, best_model_12 = cross_val(folds, 10, 4)\n",
    "f1_mean_14, f1_best_14, best_model_14  = cross_val(folds, 10, 7)"
   ]
  },
  {
   "cell_type": "code",
   "execution_count": 38,
   "id": "f4b66cbd-302f-430b-8e7b-fea2cba00f01",
   "metadata": {},
   "outputs": [
    {
     "data": {
      "image/png": "[encoded data removed]",
      "text/plain": [
       "<Figure size 300x200 with 1 Axes>"
      ]
     },
     "metadata": {},
     "output_type": "display_data"
    }
   ],
   "source": [
    "plt.rcParams[\"figure.figsize\"] = [3, 2]\n",
    "plt.rcParams[\"figure.autolayout\"] = True\n",
    "fig, axs = plt.subplots(1, 1)\n",
    "data = [[str(f1_mean_4)],\n",
    "        [str(f1_mean_6)],\n",
    "        [str(f1_mean_8)],\n",
    "        [str(f1_mean_10)],\n",
    "        [str(f1_mean_12)],\n",
    "        [str(f1_mean_14)],]\n",
    "columns = ('Mean')\n",
    "rows= ('Gamma=0', 'Gamma=0.1', 'Gamma=1', 'Gamma=2', 'Gamma=4', 'Gamma=7')\n",
    "axs.axis('tight')\n",
    "axs.axis('off')\n",
    "the_table = axs.table(cellText=data, colLabels=columns, rowLabels=rows, loc='center')\n",
    "plt.show()"
   ]
  },
  {
   "cell_type": "code",
   "execution_count": 45,
   "id": "dc1a3007-5423-4a36-899e-bde845d6dd07",
   "metadata": {},
   "outputs": [
    {
     "name": "stdout",
     "output_type": "stream",
     "text": [
      "Gamma = 0\n",
      "F1-Score: 0.8390243902439024\n",
      "Gamma = 0.1\n",
      "F1-Score: 0.8461538461538461\n",
      "Gamma = 0.5\n",
      "F1-Score: 0.8380952380952381\n"
     ]
    }
   ],
   "source": [
    "print('Gamma = 0')\n",
    "xgb = XGBClassifier(n_jobs=-1, max_depth=10, min_split_loss=0).fit(X_over, y_over)\n",
    "xgb_pred = xgb.predict(X_test)\n",
    "print(\"F1-Score:\", get_f1_score(y_test, xgb_pred))\n",
    "\n",
    "print('Gamma = 0.1')\n",
    "xgb = XGBClassifier(n_jobs=-1, max_depth=10, min_split_loss=0.1).fit(X_over, y_over)\n",
    "xgb_pred = xgb.predict(X_test)\n",
    "print(\"F1-Score:\", get_f1_score(y_test, xgb_pred))\n",
    "\n",
    "print('Gamma = 0.5')\n",
    "xgb = XGBClassifier(n_jobs=-1, max_depth=10, min_split_loss=0.5).fit(X_over, y_over)\n",
    "xgb_pred = xgb.predict(X_test)\n",
    "print(\"F1-Score:\", get_f1_score(y_test, xgb_pred))"
   ]
  },
  {
   "cell_type": "markdown",
   "id": "798e062d-5971-4d78-8bba-a6df67008bb4",
   "metadata": {},
   "source": [
    "#### <ins>Eta</ins>"
   ]
  },
  {
   "cell_type": "code",
   "execution_count": 46,
   "id": "bc6d6508-1959-4ae9-b554-e141be5c1120",
   "metadata": {},
   "outputs": [],
   "source": [
    "f1_mean_4, f1_best_4, best_model_4  = cross_val(folds, 10, 0.1, 0.1)\n",
    "f1_mean_6, f1_best_6, best_model_6  = cross_val(folds, 10, 0.1, 0.3)\n",
    "f1_mean_8, f1_best_8, best_model_8  = cross_val(folds, 10, 0.1, 0.5)\n",
    "f1_mean_10, f1_best_10, best_model_10  = cross_val(folds, 10, 0.1, 0.7)\n",
    "f1_mean_12, f1_best_12, best_model_12  = cross_val(folds, 10, 0.1, 0.9)\n",
    "f1_mean_14, f1_best_14, best_model_14  = cross_val(folds, 10, 0.1, 1)"
   ]
  },
  {
   "cell_type": "code",
   "execution_count": 47,
   "id": "0cd62fe3-1a24-41a4-94f6-2565d49abe80",
   "metadata": {},
   "outputs": [
    {
     "data": {
      "image/png": "[encoded data removed]",
      "text/plain": [
       "<Figure size 300x200 with 1 Axes>"
      ]
     },
     "metadata": {},
     "output_type": "display_data"
    }
   ],
   "source": [
    "plt.rcParams[\"figure.figsize\"] = [3, 2]\n",
    "plt.rcParams[\"figure.autolayout\"] = True\n",
    "fig, axs = plt.subplots(1, 1)\n",
    "data = [[str(f1_mean_4)],\n",
    "        [str(f1_mean_6)],\n",
    "        [str(f1_mean_8)],\n",
    "        [str(f1_mean_10)],\n",
    "        [str(f1_mean_12)],\n",
    "        [str(f1_mean_14)]]\n",
    "columns = ('Mean')\n",
    "rows= ('eta=0.1', 'eta=0.3', 'eta=0.5', 'eta=0.7', 'eta=0.9', 'eta=1')\n",
    "axs.axis('tight')\n",
    "axs.axis('off')\n",
    "the_table = axs.table(cellText=data, colLabels=columns, rowLabels=rows, loc='center')\n",
    "plt.show()"
   ]
  },
  {
   "cell_type": "code",
   "execution_count": 48,
   "id": "6b748d8a-8184-4091-832b-bf5843a123ac",
   "metadata": {},
   "outputs": [
    {
     "name": "stdout",
     "output_type": "stream",
     "text": [
      "eta = 0.3\n",
      "F1-Score: 0.8461538461538461\n",
      "eta = 0.5\n",
      "F1-Score: 0.8325358851674641\n",
      "eta = 0.7\n",
      "F1-Score: 0.8285714285714286\n",
      "eta = 0.9\n",
      "F1-Score: 0.7802690582959642\n"
     ]
    }
   ],
   "source": [
    "print('eta = 0.3')\n",
    "xgb = XGBClassifier(n_jobs=-1, max_depth=10, min_split_loss=0.1, learning_rate=0.3).fit(X_over, y_over)\n",
    "xgb_pred = xgb.predict(X_test)\n",
    "print(\"F1-Score:\", get_f1_score(y_test, xgb_pred))\n",
    "\n",
    "print('eta = 0.5')\n",
    "xgb = XGBClassifier(n_jobs=-1, max_depth=10, min_split_loss=0.1, learning_rate=0.5).fit(X_over, y_over)\n",
    "xgb_pred = xgb.predict(X_test)\n",
    "print(\"F1-Score:\", get_f1_score(y_test, xgb_pred))\n",
    "\n",
    "print('eta = 0.7')\n",
    "xgb = XGBClassifier(n_jobs=-1, max_depth=10, min_split_loss=0.1, learning_rate=0.7).fit(X_over, y_over)\n",
    "xgb_pred = xgb.predict(X_test)\n",
    "print(\"F1-Score:\", get_f1_score(y_test, xgb_pred))\n",
    "\n",
    "print('eta = 0.9')\n",
    "xgb = XGBClassifier(n_jobs=-1, max_depth=10, min_split_loss=0.1, learning_rate=0.9).fit(X_over, y_over)\n",
    "xgb_pred = xgb.predict(X_test)\n",
    "print(\"F1-Score:\", get_f1_score(y_test, xgb_pred))"
   ]
  },
  {
   "cell_type": "markdown",
   "id": "64e4bb6c-a504-4645-8b8a-81c4ea1d44d7",
   "metadata": {},
   "source": [
    "#### <ins>Prediction with best Hyper-Parameters</ins>"
   ]
  },
  {
   "cell_type": "code",
   "execution_count": 49,
   "id": "fbc14e71-b4ba-41c9-9705-0737b6c66940",
   "metadata": {},
   "outputs": [
    {
     "name": "stdout",
     "output_type": "stream",
     "text": [
      "Mean: 0.8203539120896727 Best: 0.8589743589743589\n"
     ]
    }
   ],
   "source": [
    "f1_mean_best, f1_best_best, best_model_best  = cross_val(folds, 10, 0.1, 0.3)\n",
    "print(\"Mean:\", f1_mean_best, \"Best:\", f1_best_best)"
   ]
  },
  {
   "cell_type": "code",
   "execution_count": 54,
   "id": "a043a384-0ede-44dd-9d7f-99b61d31c87e",
   "metadata": {},
   "outputs": [
    {
     "name": "stdout",
     "output_type": "stream",
     "text": [
      "F1-Score: 0.8461538461538461\n"
     ]
    }
   ],
   "source": [
    "xgb = XGBClassifier(n_jobs=-1, max_depth=10, min_split_loss=0.1, learning_rate=0.3).fit(X_over, y_over)\n",
    "xgb_pred = xgb.predict(X_test)\n",
    "print(\"F1-Score:\", get_f1_score(y_test, xgb_pred))"
   ]
  }
 ],
 "metadata": {
  "kernelspec": {
   "display_name": "Python 3 (ipykernel)",
   "language": "python",
   "name": "python3"
  },
  "language_info": {
   "codemirror_mode": {
    "name": "ipython",
    "version": 3
   },
   "file_extension": ".py",
   "mimetype": "text/x-python",
   "name": "python",
   "nbconvert_exporter": "python",
   "pygments_lexer": "ipython3",
   "version": "3.12.3"
  }
 },
 "nbformat": 4,
 "nbformat_minor": 5
}
